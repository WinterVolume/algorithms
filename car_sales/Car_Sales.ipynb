{
  "nbformat": 4,
  "nbformat_minor": 0,
  "metadata": {
    "colab": {
      "provenance": [],
      "authorship_tag": "ABX9TyPi/vg+BPRNmVj54W7rDp75",
      "include_colab_link": true
    },
    "kernelspec": {
      "name": "python3",
      "display_name": "Python 3"
    },
    "language_info": {
      "name": "python"
    }
  },
  "cells": [
    {
      "cell_type": "markdown",
      "metadata": {
        "id": "view-in-github",
        "colab_type": "text"
      },
      "source": [
        "<a href=\"https://colab.research.google.com/github/WinterVolume/algorithms/blob/main/car_sales/Car_Sales.ipynb\" target=\"_parent\"><img src=\"https://colab.research.google.com/assets/colab-badge.svg\" alt=\"Open In Colab\"/></a>"
      ]
    },
    {
      "cell_type": "code",
      "execution_count": null,
      "metadata": {
        "id": "DpIjeiH6jPBR"
      },
      "outputs": [],
      "source": [
        "from google.colab import userdata\n",
        "import os, json\n",
        "\n",
        "# Get secrets\n",
        "kaggle_user = userdata.get('KAGGLE_USER')\n",
        "kaggle_key = userdata.get('KAGGLE_KEY')\n",
        "\n",
        "# Make the ~/.kaggle folder\n",
        "os.makedirs('/root/.kaggle', exist_ok=True)\n",
        "\n",
        "# Write kaggle.json file\n",
        "with open('/root/.kaggle/kaggle.json', 'w') as f:\n",
        "    json.dump({\"username\": kaggle_user, \"key\": kaggle_key}, f)\n",
        "\n",
        "# Fix permissions\n",
        "!chmod 600 /root/.kaggle/kaggle.json\n"
      ]
    },
    {
      "cell_type": "code",
      "source": [
        "!kaggle datasets download -d gagandeep16/car-sales -p /content/cars\n",
        "!unzip -o /content/cars/*.zip -d /content/cars/"
      ],
      "metadata": {
        "colab": {
          "base_uri": "https://localhost:8080/"
        },
        "id": "1PaAu7A0jT_S",
        "outputId": "6c79e291-765d-454d-b803-a85589053f8d"
      },
      "execution_count": null,
      "outputs": [
        {
          "output_type": "stream",
          "name": "stdout",
          "text": [
            "Dataset URL: https://www.kaggle.com/datasets/gagandeep16/car-sales\n",
            "License(s): CC0-1.0\n",
            "Downloading car-sales.zip to /content/cars\n",
            "  0% 0.00/6.82k [00:00<?, ?B/s]\n",
            "100% 6.82k/6.82k [00:00<00:00, 32.4MB/s]\n",
            "Archive:  /content/cars/car-sales.zip\n",
            "  inflating: /content/cars/Car_sales.csv  \n"
          ]
        }
      ]
    },
    {
      "cell_type": "code",
      "source": [
        "import pandas as pd\n",
        "\n",
        "df = pd.read_csv('/content/cars/Car_sales.csv')"
      ],
      "metadata": {
        "id": "rw2_C3Tnjkog"
      },
      "execution_count": null,
      "outputs": []
    },
    {
      "cell_type": "code",
      "source": [
        "df.columns"
      ],
      "metadata": {
        "colab": {
          "base_uri": "https://localhost:8080/"
        },
        "id": "_b_VqVYtnuil",
        "outputId": "ae494ef4-b564-47a7-d11d-29f3cb7ff051"
      },
      "execution_count": null,
      "outputs": [
        {
          "output_type": "execute_result",
          "data": {
            "text/plain": [
              "Index(['Manufacturer', 'Model', 'Sales_in_thousands', '__year_resale_value',\n",
              "       'Vehicle_type', 'Price_in_thousands', 'Engine_size', 'Horsepower',\n",
              "       'Wheelbase', 'Width', 'Length', 'Curb_weight', 'Fuel_capacity',\n",
              "       'Fuel_efficiency', 'Latest_Launch', 'Power_perf_factor'],\n",
              "      dtype='object')"
            ]
          },
          "metadata": {},
          "execution_count": 18
        }
      ]
    }
  ]
}